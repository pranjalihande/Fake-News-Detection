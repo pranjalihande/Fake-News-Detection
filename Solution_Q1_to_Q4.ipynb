{
 "cells": [
  {
   "cell_type": "markdown",
   "id": "69271940",
   "metadata": {},
   "source": [
    "# NLP Assignment PART 1: Text classification for Fake News Detection¶\n",
    "\n",
    "## This assignment has solutions for Questions 1 to 4.\n",
    "\n",
    "This coursework will involve you implementing functions for a text classifier, which you will train to detect fake news in a corpus of approx. 10,000 statements, which will be split into a 80%/20% training/test split.\n",
    "\n",
    "In this template you are given the basis for that implementation, though some of the functions are missing, which you have to fill in.\n",
    "\n",
    "Follow the instructions file NLP_Assignment_1_Instructions.pdf for details of each question - the outline of what needs to be achieved for each question is as below.\n",
    "\n",
    "You must submit all ipython notebooks and extra resources you need to run the code if you've added them in the code submission, and a 2 page report (pdf) in the report submission on QMPlus where you report your methods and findings according to the instructions file for each question."
   ]
  },
  {
   "cell_type": "code",
   "execution_count": 1,
   "id": "9669213c",
   "metadata": {},
   "outputs": [
    {
     "name": "stdout",
     "output_type": "stream",
     "text": [
      "Requirement already satisfied: nltk in c:\\users\\pranj\\appdata\\local\\programs\\python\\python310\\lib\\site-packages (3.7)\n",
      "Requirement already satisfied: regex>=2021.8.3 in c:\\users\\pranj\\appdata\\local\\programs\\python\\python310\\lib\\site-packages (from nltk) (2022.9.13)\n",
      "Requirement already satisfied: joblib in c:\\users\\pranj\\appdata\\local\\programs\\python\\python310\\lib\\site-packages (from nltk) (1.2.0)\n",
      "Requirement already satisfied: click in c:\\users\\pranj\\appdata\\local\\programs\\python\\python310\\lib\\site-packages (from nltk) (8.1.3)\n",
      "Requirement already satisfied: tqdm in c:\\users\\pranj\\appdata\\local\\programs\\python\\python310\\lib\\site-packages (from nltk) (4.64.1)\n",
      "Requirement already satisfied: colorama in c:\\users\\pranj\\appdata\\local\\programs\\python\\python310\\lib\\site-packages (from click->nltk) (0.4.5)\n"
     ]
    },
    {
     "name": "stderr",
     "output_type": "stream",
     "text": [
      "\n",
      "[notice] A new release of pip available: 22.2.2 -> 22.3.1\n",
      "[notice] To update, run: python.exe -m pip install --upgrade pip\n"
     ]
    }
   ],
   "source": [
    "!pip install nltk"
   ]
  },
  {
   "cell_type": "markdown",
   "id": "93fe1ec0",
   "metadata": {},
   "source": [
    "### Importing reuired modules"
   ]
  },
  {
   "cell_type": "code",
   "execution_count": 2,
   "id": "7743bd0d",
   "metadata": {},
   "outputs": [],
   "source": [
    "import csv    # csv reader\n",
    "import re\n",
    "import numpy as np\n",
    "from sklearn import metrics\n",
    "from sklearn.svm import LinearSVC\n",
    "from nltk.classify import SklearnClassifier\n",
    "from sklearn.pipeline import Pipeline\n",
    "from sklearn.metrics import precision_recall_fscore_support # to report on precision and recall\n",
    "from sklearn.feature_extraction.text import CountVectorizer\n",
    "from sklearn.metrics import accuracy_score\n",
    "from sklearn.metrics import classification_report\n",
    "from sklearn.metrics import precision_recall_fscore_support"
   ]
  },
  {
   "cell_type": "code",
   "execution_count": 3,
   "id": "65503883",
   "metadata": {},
   "outputs": [],
   "source": [
    "def load_data(path):\n",
    "    \"\"\"Load data from a tab-separated file and append it to raw_data.\"\"\"\n",
    "    with open(path, encoding='utf-8') as f:\n",
    "        reader = csv.reader(f, delimiter='\\t')\n",
    "        for line in reader:\n",
    "            if line[0] == \"Id\":  # skip header\n",
    "                continue\n",
    "            (label, text) = parse_data_line(line)\n",
    "            raw_data.append((text, label))\n",
    "\n",
    "def split_and_preprocess_data(percentage):\n",
    "    \"\"\"\n",
    "    Split the data between train_data and test_data according to the percentage\n",
    "    and performs the preprocessing.\n",
    "    \"\"\"\n",
    "    num_samples = len(raw_data)\n",
    "    num_training_samples = int((percentage * num_samples))\n",
    "    for (text, label) in raw_data[:num_training_samples]:\n",
    "        train_data.append((to_feature_vector(pre_process(text)),label))\n",
    "    for (text, label) in raw_data[num_training_samples:]:\n",
    "        test_data.append((to_feature_vector(pre_process(text)),label))"
   ]
  },
  {
   "cell_type": "markdown",
   "id": "3cf0cc33",
   "metadata": {},
   "source": [
    "# Question 1: Input and Basic preprocessing (10 marks)¶"
   ]
  },
  {
   "cell_type": "code",
   "execution_count": 4,
   "id": "529e0e9c",
   "metadata": {},
   "outputs": [],
   "source": [
    "def convert_label(label):\n",
    "    \"\"\"\n",
    "    Converts the multiple classes into two,\n",
    "    making it a binary distinction between fake news and real.\n",
    "    \"\"\"\n",
    "    #return label\n",
    "    # Converting the multiclass labels to binary label\n",
    "    labels_map = {\n",
    "        'true': 'REAL',\n",
    "        'mostly-true': 'REAL',\n",
    "        'half-true': 'REAL',\n",
    "        'false': 'FAKE',\n",
    "        'barely-true': 'FAKE',\n",
    "        'pants-fire': 'FAKE'\n",
    "    }\n",
    "    return labels_map[label]\n",
    "\n",
    "def parse_data_line(data_line):\n",
    "    \"\"\"\n",
    "    This method get the label and statement columns from the given fake_news.tsv file.\n",
    "    : param data_line: Row data from the given tsv file.\n",
    "    : return: A tuple of label from the data and required columns from the data.\n",
    "    \"\"\"\n",
    "    data_label = convert_label(data_line[1])\n",
    "    statement =  data_line[2]\n",
    "    return (data_label, statement)"
   ]
  },
  {
   "cell_type": "code",
   "execution_count": 5,
   "id": "a62c71b8",
   "metadata": {},
   "outputs": [],
   "source": [
    "def pre_process(text):\n",
    "    \"\"\"\n",
    "    This method uses a count vectorizer to extract features from the given text. \n",
    "    For that, first, created a count vectorizer which by default does some pre-processing, \n",
    "    tokenizing and convert the words into lower case.\n",
    "    :param text: a string of one statement\n",
    "    : return tokens: list of words after performing data preprocessing and cleanup\n",
    "    \"\"\"\n",
    "    count_vect = CountVectorizer()\n",
    "    count_vect.fit_transform([text])\n",
    "    tokens = count_vect.get_feature_names_out()\n",
    "    return tokens"
   ]
  },
  {
   "cell_type": "markdown",
   "id": "98933b19",
   "metadata": {},
   "source": [
    "# Question 2: Basic Feature Extraction (20 marks)"
   ]
  },
  {
   "cell_type": "code",
   "execution_count": 6,
   "id": "1943737b",
   "metadata": {},
   "outputs": [],
   "source": [
    "global_feature = [] # A global list of features\n",
    "def to_feature_vector(tokens):\n",
    "    \"\"\"\n",
    "    This method returns a dictionary containing features as keys, and weights as values. \n",
    "    Add every new word in dictionary as a key and assign it value as 1. \n",
    "    If word already exists in dictionary then just increase its weight by 1.\n",
    "    Also, maintains a list (global_feature) to get the all unique words in the given corpus.\n",
    "    : param tokens: List of words\n",
    "    : return feature_vector_dict: a dict = {'word': frequency} for given tokens\n",
    "    \"\"\"\n",
    "    global_featureVector = {}\n",
    "    for w in tokens:\n",
    "        if w not in global_feature:\n",
    "            global_feature.append(w)\n",
    "\n",
    "        if w in global_featureVector:\n",
    "            global_featureVector[w] += 1\n",
    "        else:\n",
    "            global_featureVector[w] = 1\n",
    "    return global_featureVector"
   ]
  },
  {
   "cell_type": "code",
   "execution_count": 7,
   "id": "2672e265",
   "metadata": {},
   "outputs": [],
   "source": [
    "# TRAINING AND VALIDATING OUR CLASSIFIER\n",
    "\n",
    "def train_classifier(data):\n",
    "    print(\"Training Classifier...\")\n",
    "    pipeline =  Pipeline([('svc', LinearSVC())])\n",
    "    return SklearnClassifier(pipeline).train(data)"
   ]
  },
  {
   "cell_type": "markdown",
   "id": "b110d554",
   "metadata": {},
   "source": [
    "# Question 3: Cross-validation (20 marks)"
   ]
  },
  {
   "cell_type": "code",
   "execution_count": 8,
   "id": "2b91fb29",
   "metadata": {},
   "outputs": [],
   "source": [
    "def cross_validate(dataset, folds):\n",
    "    \"\"\"\n",
    "    This method performs 10 folds cross validation on Train and test dataset\n",
    "    : param dataset: Training Dataset (80% of total dataset)\n",
    "    : param folds: Number of folds, 10\n",
    "    :returns: \n",
    "    cv_results: Average of presicion, recall, fscore, accuracy of each fold\n",
    "    first_fold_actual_label: list of First fold's Actual Label\n",
    "    first_fold_predicted_label: list of First fold's Predicted Label\n",
    "    \"\"\"\n",
    "    fold_size = int(len(dataset)/folds) + 1\n",
    "    results = []\n",
    "\n",
    "    for i in range(0, len(dataset), int(fold_size)):\n",
    "        # trains and tests on the 10 folds of data in the dataset\n",
    "        print(\"Fold start on items %d - %d\" % (i, i+fold_size))\n",
    "        test_data = dataset[i:i+fold_size]\n",
    "        if i == 0:\n",
    "            train_data = dataset[i+fold_size:]\n",
    "        else:\n",
    "            train_data = dataset[:i] + dataset[i+fold_size:]\n",
    "\n",
    "        #Training classifier with train data\n",
    "        classifier = train_classifier(train_data)\n",
    "        actual_label = []\n",
    "        predicted_label = []\n",
    "\n",
    "        #Predicting label for each sample of test data and updating them in list above.\n",
    "        for j in range(0, len(test_data)):\n",
    "            actual_label.append(test_data[j][1])\n",
    "            pred_label = predict_labels(test_data[j][0], classifier)\n",
    "            predicted_label.append(pred_label[0])\n",
    "\n",
    "        # Getting presicion, recall, fscore and accuracy\n",
    "        presicion, recall, fscore, support = precision_recall_fscore_support(actual_label, predicted_label, average='weighted')\n",
    "        accuracy = accuracy_score(actual_label, predicted_label)\n",
    "        results.append([presicion, recall, fscore, accuracy])\n",
    "\n",
    "        # Appening classification report of each fold in Classification_Report_for_Each_Fold_First_Notebook.txt file.\n",
    "        with open(\"Classification_Report_for_Each_Fold_First_Notebook.txt\", \"a+\") as f:\n",
    "            f.write(f\"\\n =============Classification report for {i, i+fold_size} fold=======================\")\n",
    "            f.write(f\"\\n{classification_report(actual_label, predicted_label)}\")\n",
    "            f.write(f\"\\nConfusion matrix: \\n {str(metrics.confusion_matrix(actual_label, predicted_label))}\")\n",
    "\n",
    "        # Getting fist fold's actual and predicted labels\n",
    "        if i == 0:\n",
    "            first_fold_actual_label = actual_label\n",
    "            first_fold_predicted_label = predicted_label\n",
    "\n",
    "    cv_result = [sum(val)/len(results) for val in zip(*results)]\n",
    "    return cv_result, first_fold_actual_label, first_fold_predicted_label"
   ]
  },
  {
   "cell_type": "code",
   "execution_count": 9,
   "id": "e247cc9d",
   "metadata": {},
   "outputs": [],
   "source": [
    "# PREDICTING LABELS GIVEN A CLASSIFIER\n",
    "\n",
    "def predict_labels(samples, classifier):\n",
    "    \"\"\"Assuming preprocessed samples, return their predicted labels from the classifier model.\"\"\"\n",
    "    return classifier.classify_many(samples)\n",
    "\n",
    "def predict_label_from_raw(sample, classifier):\n",
    "    \"\"\"Assuming raw text, return its predicted label from the classifier model.\"\"\"\n",
    "    return classifier.classify(to_feature_vector(preProcess(reviewSample)))"
   ]
  },
  {
   "cell_type": "code",
   "execution_count": 10,
   "id": "2efe3bf2",
   "metadata": {},
   "outputs": [
    {
     "name": "stdout",
     "output_type": "stream",
     "text": [
      "Now 0 rawData, 0 trainData, 0 testData\n",
      "Preparing the dataset...\n",
      "Now 10241 rawData, 0 trainData, 0 testData\n",
      "Preparing training and test data...\n",
      "After split, 10241 rawData, 8192 trainData, 2049 testData\n",
      "Training Samples: \n",
      "8192\n",
      "Features: \n",
      "12193\n"
     ]
    }
   ],
   "source": [
    "# MAIN\n",
    "\n",
    "# loading reviews\n",
    "# initialize global lists that will be appended to by the methods below\n",
    "raw_data = []          # the filtered data from the dataset file\n",
    "train_data = []        # the pre-processed training data as a percentage of the total dataset\n",
    "test_data = []         # the pre-processed test data as a percentage of the total dataset\n",
    "\n",
    "\n",
    "# references to the data files\n",
    "data_file_path = 'fake_news.tsv'\n",
    "\n",
    "# Do the actual stuff (i.e. call the functions we've made)\n",
    "# We parse the dataset and put it in a raw data list\n",
    "print(\"Now %d rawData, %d trainData, %d testData\" % (len(raw_data), len(train_data), len(test_data)),\n",
    "      \"Preparing the dataset...\",sep='\\n')\n",
    "\n",
    "load_data(data_file_path)\n",
    "\n",
    "# We split the raw dataset into a set of training data and a set of test data (80/20)\n",
    "# You do the cross validation on the 80% (training data)\n",
    "# We print the number of training samples and the number of features before the split\n",
    "print(\"Now %d rawData, %d trainData, %d testData\" % (len(raw_data), len(train_data), len(test_data)),\n",
    "      \"Preparing training and test data...\",sep='\\n')\n",
    "\n",
    "split_and_preprocess_data(0.8)\n",
    "\n",
    "\n",
    "\n",
    "# We print the number of training samples and the number of features after the split\n",
    "print(\"After split, %d rawData, %d trainData, %d testData\" % (len(raw_data), len(train_data), len(test_data)),\n",
    "      \"Training Samples: \", len(train_data), \"Features: \", len(global_feature), sep='\\n')"
   ]
  },
  {
   "cell_type": "code",
   "execution_count": 11,
   "id": "0e88deb9",
   "metadata": {},
   "outputs": [
    {
     "name": "stdout",
     "output_type": "stream",
     "text": [
      "Fold start on items 0 - 820\n",
      "Training Classifier...\n",
      "Fold start on items 820 - 1640\n",
      "Training Classifier...\n",
      "Fold start on items 1640 - 2460\n",
      "Training Classifier...\n",
      "Fold start on items 2460 - 3280\n",
      "Training Classifier...\n",
      "Fold start on items 3280 - 4100\n",
      "Training Classifier...\n",
      "Fold start on items 4100 - 4920\n",
      "Training Classifier...\n",
      "Fold start on items 4920 - 5740\n",
      "Training Classifier...\n",
      "Fold start on items 5740 - 6560\n",
      "Training Classifier...\n",
      "Fold start on items 6560 - 7380\n",
      "Training Classifier...\n",
      "Fold start on items 7380 - 8200\n",
      "Training Classifier...\n",
      "\n",
      "\n",
      " Average Results of Presicion, Recall, Fscore, Accuracy of all folds: [0.563313403250085, 0.5626558933077016, 0.5626790928460598, 0.5626558933077016]\n"
     ]
    }
   ],
   "source": [
    "cv_results, first_fold_actual_label, first_fold_predicted_label = cross_validate(train_data, 10) # will work and output overall performance of p, r, f-score when cv implemented\n",
    "print(f\"\\n\\n Average Results of Presicion, Recall, Fscore, Accuracy of all folds: {cv_results}\")"
   ]
  },
  {
   "cell_type": "markdown",
   "id": "3c029323",
   "metadata": {},
   "source": [
    "# Question 4. Error Analysis (10 marks)¶"
   ]
  },
  {
   "cell_type": "code",
   "execution_count": 12,
   "id": "32ddc7cd",
   "metadata": {},
   "outputs": [],
   "source": [
    "from sklearn import metrics\n",
    "import matplotlib.pyplot as plt\n",
    "# a function to make the confusion matrix readable and pretty\n",
    "def confusion_matrix_heatmap(y_test, preds, labels):\n",
    "    \"\"\"Function to plot a confusion matrix\"\"\"\n",
    "    # pass labels to the confusion matrix function to ensure right order\n",
    "    cm = metrics.confusion_matrix(y_test, preds, labels=labels)\n",
    "    fig = plt.figure(figsize=(10,10))\n",
    "    ax = fig.add_subplot(111)\n",
    "    cax = ax.matshow(cm)\n",
    "    plt.title('Confusion matrix of the classifier')\n",
    "    fig.colorbar(cax)\n",
    "    ax.set_xticks(np.arange(len(labels)))\n",
    "    ax.set_yticks(np.arange(len(labels)))\n",
    "    ax.set_xticklabels( labels, rotation=45)\n",
    "    ax.set_yticklabels( labels)\n",
    "\n",
    "    for i in range(len(cm)):\n",
    "        for j in range(len(cm)):\n",
    "            text = ax.text(j, i, cm[i, j],\n",
    "                           ha=\"center\", va=\"center\", color=\"w\")\n",
    "\n",
    "    plt.xlabel('Predicted')\n",
    "    plt.ylabel('True')\n",
    "    \n",
    "    # fix for mpl bug that cuts off top/bottom of seaborn viz:\n",
    "    b, t = plt.ylim() # discover the values for bottom and top\n",
    "    b += 0.5 # Add 0.5 to the bottom\n",
    "    t -= 0.5 # Subtract 0.5 from the top\n",
    "    plt.ylim(b, t) # update the ylim(bottom, top) values\n",
    "    plt.show() # ta-da!\n",
    "    plt.show()"
   ]
  },
  {
   "cell_type": "code",
   "execution_count": 13,
   "id": "9fa4dad0",
   "metadata": {},
   "outputs": [],
   "source": [
    "def get_false_positive_and_false_negative_data(train_data, first_fold_actual_label, first_fold_predicted_label, raw_data):\n",
    "    \"\"\"\n",
    "    This method creates a new file to update all the False Positive and False Negative Data.\n",
    "    For the first fold, all the predicted and actual labels which doesn't match will be written \n",
    "    into this file with the associated statement from raw_data. This file will help in analysing\n",
    "    the actual confusions classifier is making while making the predictions.\n",
    "    \"\"\"\n",
    "    fold_size = int(len(train_data)/10) + 1\n",
    "    for i in range (0, fold_size):\n",
    "        if first_fold_actual_label[i] != first_fold_predicted_label[i]:\n",
    "            with open(\"False_Positives_And_False_Negatives_For_First_Fold.txt\", \"a+\") as f:\n",
    "                f.write(f\"\\n###Incorrect prediction of label for statement:\")\n",
    "                f.write(f\"\\n {str(raw_data[i])}\")\n",
    "                f.write(str(f\"\\n Predicted:{first_fold_predicted_label[i]}\"))                \n",
    "\n",
    "get_false_positive_and_false_negative_data(train_data, first_fold_actual_label, first_fold_predicted_label, raw_data)"
   ]
  },
  {
   "cell_type": "code",
   "execution_count": 14,
   "id": "bdadfc5d",
   "metadata": {},
   "outputs": [
    {
     "data": {
      "image/png": "[encoded data removed]",
      "text/plain": [
       "<Figure size 1000x1000 with 2 Axes>"
      ]
     },
     "metadata": {},
     "output_type": "display_data"
    },
    {
     "name": "stdout",
     "output_type": "stream",
     "text": [
      "\n",
      " Final Classification Report for first fold: \n",
      "\n",
      "               precision    recall  f1-score   support\n",
      "\n",
      "        FAKE       0.47      0.48      0.48       339\n",
      "        REAL       0.63      0.62      0.62       481\n",
      "\n",
      "    accuracy                           0.56       820\n",
      "   macro avg       0.55      0.55      0.55       820\n",
      "weighted avg       0.56      0.56      0.56       820\n",
      "\n"
     ]
    }
   ],
   "source": [
    "labels = ['FAKE', 'REAL']\n",
    "confusion_matrix_heatmap(first_fold_actual_label, first_fold_predicted_label, labels)\n",
    "\n",
    "report = classification_report(first_fold_actual_label, first_fold_predicted_label)\n",
    "print(f\"\\n Final Classification Report for first fold: \\n\\n {report}\")\n",
    "\n",
    "with open(\"Classification_Report_for_Each_Fold_First_Notebook.txt\", \"a+\") as f:\n",
    "    f.write(f\"\\n ============Classification Report for First Fold==============\\n\")\n",
    "    f.write(f\"\\n\\n{report}\")"
   ]
  }
 ],
 "metadata": {
  "kernelspec": {
   "display_name": "Python 3 (ipykernel)",
   "language": "python",
   "name": "python3"
  },
  "language_info": {
   "codemirror_mode": {
    "name": "ipython",
    "version": 3
   },
   "file_extension": ".py",
   "mimetype": "text/x-python",
   "name": "python",
   "nbconvert_exporter": "python",
   "pygments_lexer": "ipython3",
   "version": "3.10.8"
  }
 },
 "nbformat": 4,
 "nbformat_minor": 5
}
